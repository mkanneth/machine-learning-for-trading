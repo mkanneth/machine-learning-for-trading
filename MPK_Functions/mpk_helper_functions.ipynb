{
 "cells": [
  {
   "cell_type": "code",
   "execution_count": null,
   "metadata": {},
   "outputs": [],
   "source": [
    "import pandas as pd\n",
    "import numpy as np\n",
    "import datetime as dt"
   ]
  },
  {
   "cell_type": "code",
   "execution_count": null,
   "metadata": {},
   "outputs": [],
   "source": [
    "def normalized_historical_returns(input_df,data_frequency=\"Day\",return_intervals=[1,4]):\n",
    "    #input_df: Dataframe with daily/weekly/monthly stock price data\n",
    "    #return_invervals should be in specified in the increment the input_df is\n",
    "    #returns are normalized to the data_frequence (i.e. daily data is normalized to daily returns, monthly to per month, etc)\n",
    "\n",
    "    df = input_df.copy()\n",
    "    columns = df.columns\n",
    "    returns = pd.DataFrame()\n",
    "\n",
    "    for i in return_intervals:\n",
    "        for col in columns:\n",
    "            returns[f'{col}_{i}{data_frequency}'] = df[col].pct_change(i).add(1).pow(1/i).sub(1)\n",
    "\n",
    "    return returns"
   ]
  }
 ],
 "metadata": {
  "kernelspec": {
   "display_name": "base",
   "language": "python",
   "name": "python3"
  },
  "language_info": {
   "codemirror_mode": {
    "name": "ipython",
    "version": 3
   },
   "file_extension": ".py",
   "mimetype": "text/x-python",
   "name": "python",
   "nbconvert_exporter": "python",
   "pygments_lexer": "ipython3",
   "version": "3.9.13"
  }
 },
 "nbformat": 4,
 "nbformat_minor": 2
}
