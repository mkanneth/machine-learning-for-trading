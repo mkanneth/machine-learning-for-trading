{
 "cells": [
  {
   "cell_type": "code",
   "execution_count": 94,
   "metadata": {},
   "outputs": [],
   "source": [
    "import pandas as pd\n",
    "import numpy as np\n",
    "import datetime as dt\n",
    "\n",
    "\n",
    "import pandas_datareader.data as web\n",
    "from statsmodels.regression.rolling import RollingOLS\n",
    "import statsmodels.api as sm\n",
    "import seaborn as sns"
   ]
  },
  {
   "cell_type": "code",
   "execution_count": 3,
   "metadata": {},
   "outputs": [],
   "source": [
    "DATA_STORE = '../data/assets.h5'\n",
    "START = 2000\n",
    "END = 2018\n",
    "idx = pd.IndexSlice\n",
    "with pd.HDFStore(DATA_STORE) as store:\n",
    "    prices = (store['quandl/wiki/prices']\n",
    "              .loc[idx[str(START):str(END), :], 'adj_close']\n",
    "              .unstack('ticker'))\n",
    "    stocks = store['us_equities/stocks'].loc[:, ['marketcap', 'ipoyear', 'sector']]"
   ]
  },
  {
   "cell_type": "code",
   "execution_count": 4,
   "metadata": {},
   "outputs": [],
   "source": [
    "def normalized_historical_returns(input_df,data_frequency=\"D\",return_intervals=[1,4]):\n",
    "    #input_df: Dataframe with daily/weekly/monthly stock price data\n",
    "    #return_invervals should be in specified in the increment the input_df is\n",
    "    #returns are normalized to the data_frequence (i.e. daily data is normalized to daily returns, monthly to per month, etc)\n",
    "\n",
    "    df = input_df.copy()\n",
    "    columns = df.columns\n",
    "    returns = pd.DataFrame()\n",
    "\n",
    "    for i in return_intervals:\n",
    "        for col in columns:\n",
    "            returns[f'{col}_{i}{data_frequency}_return'] = df[col].pct_change(i).add(1).pow(1/i).sub(1)\n",
    "\n",
    "    return returns"
   ]
  },
  {
   "cell_type": "code",
   "execution_count": null,
   "metadata": {},
   "outputs": [],
   "source": [
    "#For this function to work, x_df and y_df need to have datetime indexes with the same dates to join on\n",
    "\n",
    "def rolling_OLS(x_df,y_df,rolling_window):\n",
    "\n",
    "    if isinstance(x_df.index,pd.DatetimeIndex):\n",
    "        pass\n",
    "    else:\n",
    "        x_df.index = x_df.index.to_timestamp()\n",
    "\n",
    "    if isinstance(y_df.index,pd.DatetimeIndex):\n",
    "        pass\n",
    "    else:\n",
    "        y_df.index = y_df.index.to_timestamp()\n",
    "   \n",
    "    \n",
    "    y_df.index.name = 'date'\n",
    "    x_df.index.name = 'date'\n",
    "\n",
    "    y_name = y_df.columns[0]\n",
    "    regression_df = x_df.join(y_df).sort_index()\n",
    "\n",
    "\n",
    "    regression = RollingOLS(endog=regression_df[y_name],\n",
    "                            exog=sm.add_constant(regression_df.drop(y_name,axis=1)),\n",
    "                            window=min(rolling_window,len(regression_df)-1)\n",
    "                            ).fit(params_only=True)\n",
    "    \n",
    "    params = regression.params.drop('const',axis=1)\n",
    "    \n",
    "    return params"
   ]
  },
  {
   "cell_type": "code",
   "execution_count": 202,
   "metadata": {},
   "outputs": [],
   "source": [
    "#How to pull Fama French Data\n",
    "factor_data = web.DataReader('F-F_Research_Data_5_Factors_2x3', 'famafrench', start='2000')[0].drop('RF', axis=1)\n",
    "factor_data.index = factor_data.index.to_timestamp()\n",
    "factor_data = factor_data.div(100).resample('M').mean()"
   ]
  },
  {
   "cell_type": "code",
   "execution_count": null,
   "metadata": {},
   "outputs": [],
   "source": []
  }
 ],
 "metadata": {
  "kernelspec": {
   "display_name": "base",
   "language": "python",
   "name": "python3"
  },
  "language_info": {
   "codemirror_mode": {
    "name": "ipython",
    "version": 3
   },
   "file_extension": ".py",
   "mimetype": "text/x-python",
   "name": "python",
   "nbconvert_exporter": "python",
   "pygments_lexer": "ipython3",
   "version": "3.9.13"
  }
 },
 "nbformat": 4,
 "nbformat_minor": 2
}
